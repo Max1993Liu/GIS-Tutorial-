{
 "cells": [
  {
   "cell_type": "code",
   "execution_count": null,
   "metadata": {
    "collapsed": true
   },
   "outputs": [],
   "source": [
    "#[]is used to match a character class\n",
    "[abc] #matches a,b or c\n",
    "[a-c] #same\n",
    "[a-z] #all the lower cases\n",
    "#matacasses are not active inside classes\n",
    "[abc$] #matches a,b,c or $\n",
    "\n",
    "#complement, '^' as the first character of class\n",
    "[^a-c] #match any character except a, b, c\n",
    "\n",
    "#using bachslash \\ to escape special characters\n",
    "[\\[] #matches [\n",
    "\n",
    "#some of the special sequences begining with \\ represent predefined\n",
    "#sets of characters \n",
    "\\d #any decimal digits equal to [0-9]\n",
    "\\D #any non-digit character equal to [^0-9]\n",
    "\\s #any whitespace character equal to [ \\t\\n\\r\\f\\v]\n",
    "\\S #any non-whitespace character equal to [^ \\t\\n\\r\\f\\v]\n",
    "\\w #match any alphanumeric character equal to [a-zA-Z0-9]\n",
    "\\W #any non-alphanumeric character\n",
    " \n",
    "#dot . matches anything except a newline character"
   ]
  },
  {
   "cell_type": "code",
   "execution_count": null,
   "metadata": {
    "collapsed": true
   },
   "outputs": [],
   "source": [
    "#Repeating things\n",
    "# * means the previous character can be matched zero or more times\n",
    "ca*t #matched ct, cat, caat ......\n",
    "\n",
    "# + repeats one or more time\n",
    "ca+t #matched cat, caat, caaat\n",
    "\n",
    "# ? either 0 or 1 time, think of it as being optional\n",
    "ca?t #matched ct, cat\n",
    "\n",
    "# {m,n} at least m repetitions and at most n\n",
    "a/{1,3}b #matched a/b, a//b, a///b"
   ]
  },
  {
   "cell_type": "code",
   "execution_count": 3,
   "metadata": {
    "collapsed": false
   },
   "outputs": [],
   "source": [
    "#compiling regular expression\n",
    "#using the raw string\n",
    "import re\n",
    "p = re.compile(r\"ab*\")\n",
    "p = re.compile(r\"ab*\", re.IGNORECASE)"
   ]
  },
  {
   "cell_type": "code",
   "execution_count": null,
   "metadata": {
    "collapsed": true
   },
   "outputs": [],
   "source": []
  }
 ],
 "metadata": {
  "anaconda-cloud": {},
  "kernelspec": {
   "display_name": "Python [Root]",
   "language": "python",
   "name": "Python [Root]"
  },
  "language_info": {
   "codemirror_mode": {
    "name": "ipython",
    "version": 2
   },
   "file_extension": ".py",
   "mimetype": "text/x-python",
   "name": "python",
   "nbconvert_exporter": "python",
   "pygments_lexer": "ipython2",
   "version": "2.7.12"
  }
 },
 "nbformat": 4,
 "nbformat_minor": 0
}
