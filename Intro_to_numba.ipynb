{
 "cells": [
  {
   "cell_type": "code",
   "execution_count": 1,
   "metadata": {
    "collapsed": true
   },
   "outputs": [],
   "source": [
    "import pandas as pd\n",
    "import numpy as np\n",
    "import numba"
   ]
  },
  {
   "cell_type": "code",
   "execution_count": 3,
   "metadata": {
    "collapsed": false
   },
   "outputs": [],
   "source": [
    "#lazy compilation\n",
    "from numba import jit\n",
    "\n",
    "@jit\n",
    "def f(x, y):\n",
    "    return x + y"
   ]
  },
  {
   "cell_type": "code",
   "execution_count": 11,
   "metadata": {
    "collapsed": false
   },
   "outputs": [
    {
     "data": {
      "text/plain": [
       "5"
      ]
     },
     "execution_count": 11,
     "metadata": {},
     "output_type": "execute_result"
    }
   ],
   "source": [
    "#eager compilation\n",
    "from numba import int32, float32\n",
    "\n",
    "@jit(int32(int32, int32))\n",
    "def f(x, y):\n",
    "    return x + y\n",
    "\n",
    "f(2.5, 3)"
   ]
  },
  {
   "cell_type": "code",
   "execution_count": 43,
   "metadata": {
    "collapsed": false
   },
   "outputs": [
    {
     "name": "stdout",
     "output_type": "stream",
     "text": [
      "1000 loops, best of 3: 189 µs per loop\n"
     ]
    }
   ],
   "source": [
    "#working with arrays\n",
    "@jit(int32[:](int32))\n",
    "def t(x):\n",
    "    return np.arange(x)\n",
    "\n",
    "\n",
    "def p(x):\n",
    "    return np.arange(x)\n",
    "\n",
    "%timeit _ = t(1000000)\n",
    "#%timeit _ = p(1000000)"
   ]
  },
  {
   "cell_type": "code",
   "execution_count": null,
   "metadata": {
    "collapsed": true
   },
   "outputs": [],
   "source": [
    "#compilation options\n",
    "#give the tip-top performance but can raise errors\n",
    "@jit(int32[:](int32), nopython=True)\n",
    "def t(x):\n",
    "    return np.arange(x)\n",
    "\n",
    "\n",
    "#when code is only working with native types and variables \n",
    "#aka no python objects, we can release GIL\n",
    "#code with nogil=True and nopython=True will run concurrently\n",
    "@jit(nogil=True)\n",
    "\n"
   ]
  },
  {
   "cell_type": "markdown",
   "metadata": {},
   "source": [
    "> While the jit() decorator is useful for many situations, sometimes you want to write a function that has different implementations depending on its input types. The generated_jit() decorator allows the user to control the selection of a specialization at compile-time, while fulling retaining runtime execution speed of a JIT function.\n"
   ]
  },
  {
   "cell_type": "markdown",
   "metadata": {},
   "source": [
    "> Suppose you want to write a function which returns whether a given value is a “missing” value according to certain conventions. For the sake of the example, let’s adopt the following definition:\n",
    "\n",
    "> for floating-point arguments, a missing value is a NaN\n",
    "for Numpy datetime64 and timedelta64 arguments, a missing value is a NaT\n",
    "other types don’t have the concept of a missing value."
   ]
  },
  {
   "cell_type": "code",
   "execution_count": 44,
   "metadata": {
    "collapsed": true
   },
   "outputs": [],
   "source": [
    "import numpy as np\n",
    "\n",
    "from numba import generated_jit, types\n",
    "\n",
    "@generated_jit(nopython=True)\n",
    "def is_missing(x):\n",
    "    \"\"\"\n",
    "    Return True if the value is missing, False otherwise.\n",
    "    \"\"\"\n",
    "    if isinstance(x, types.Float):\n",
    "        return lambda x: np.isnan(x)\n",
    "    elif isinstance(x, (types.NPDatetime, types.NPTimedelta)):\n",
    "        # The corresponding Not-a-Time value\n",
    "        missing = x('NaT')\n",
    "        return lambda x: x == missing\n",
    "    else:\n",
    "        return lambda x: False"
   ]
  },
  {
   "cell_type": "markdown",
   "metadata": {},
   "source": [
    "There are several things to note here:\n",
    "\n",
    "1. The decorated function is called with the Numba types of the arguments, not their values.\n",
    "2. The decorated function doesn’t actually compute a result, it returns a callable implementing the actual definition of the function for the given types.\n",
    "3. It is possible to pre-compute some data at compile-time (the missing variable above) to have them reused inside the compiled implementation.\n",
    "4. The function definitions use the same names for arguments as in the decorated function, this is required to ensure passing arguments by name works as expected.\n"
   ]
  },
  {
   "cell_type": "markdown",
   "metadata": {},
   "source": [
    "### Creating Numpy universal functions\n",
    "\n",
    "Numba’s vectorize allows Python functions taking scalar input arguments to be used as NumPy ufuncs."
   ]
  },
  {
   "cell_type": "code",
   "execution_count": 86,
   "metadata": {
    "collapsed": false
   },
   "outputs": [
    {
     "name": "stdout",
     "output_type": "stream",
     "text": [
      "CPU times: user 11 µs, sys: 1e+03 ns, total: 12 µs\n",
      "Wall time: 13.8 µs\n",
      "[ 0  1  3  6 10 15 21 28 36 45]\n",
      "45\n"
     ]
    }
   ],
   "source": [
    "from numba import vectorize, float64, int64\n",
    "\n",
    "\n",
    "@vectorize([int32(int32, int32),\n",
    "            int64(int64, int64),\n",
    "            float32(float32, float32),\n",
    "            float64(float64, float64)], target=\"cpu\")\n",
    "def f(x, y):\n",
    "    return x + y\n",
    "\n",
    "a = np.arange(10)\n",
    "%time f(a, a)\n",
    "\n",
    "#good thing is f also gets reduction, accumulation or broadcasting\n",
    "print f.accumulate(a)\n",
    "print f.reduce(a)"
   ]
  },
  {
   "cell_type": "markdown",
   "metadata": {},
   "source": [
    "> If you pass several signatures, beware that you have to pass most specific signatures before least specific ones (e.g., single-precision floats before double-precision floats), otherwise type-based dispatching will not work as expected\n",
    "\n",
    "> target can be \"cpu\", \"parallel\" or \"cuda\", targeting data less than 1KB, less than 1MB and more than 1 MB\n",
    "for example with array 1000000 * 100, should be using parallel"
   ]
  },
  {
   "cell_type": "code",
   "execution_count": null,
   "metadata": {
    "collapsed": false
   },
   "outputs": [],
   "source": []
  },
  {
   "cell_type": "code",
   "execution_count": null,
   "metadata": {
    "collapsed": true
   },
   "outputs": [],
   "source": []
  },
  {
   "cell_type": "code",
   "execution_count": null,
   "metadata": {
    "collapsed": true
   },
   "outputs": [],
   "source": []
  }
 ],
 "metadata": {
  "anaconda-cloud": {},
  "kernelspec": {
   "display_name": "Python [Root]",
   "language": "python",
   "name": "Python [Root]"
  },
  "language_info": {
   "codemirror_mode": {
    "name": "ipython",
    "version": 2
   },
   "file_extension": ".py",
   "mimetype": "text/x-python",
   "name": "python",
   "nbconvert_exporter": "python",
   "pygments_lexer": "ipython2",
   "version": "2.7.12"
  }
 },
 "nbformat": 4,
 "nbformat_minor": 0
}
